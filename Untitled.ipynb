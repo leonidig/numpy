{
 "cells": [
  {
   "cell_type": "code",
   "execution_count": 5,
   "id": "9ce0fb2e-e870-482d-a67b-df2fd17c5b19",
   "metadata": {},
   "outputs": [],
   "source": [
    "import pandas as pd\n",
    "import numpy as np\n",
    "\n",
    "# _________________________________________________________________\n",
    "\n",
    "# data = np.arange(1, 13).reshape(3, 4)\n",
    "# df = pd.DataFrame(data, columns=['A', 'B', 'C', 'D'])\n",
    "\n",
    "# print(df)\n",
    "\n",
    "# _________________________________________________________________\n",
    "\n",
    "# data = {\n",
    "#    'product': ['Laptop', 'Smartphone', 'Tablet'],\n",
    "#    'price': [1200, 800, 400],\n",
    "#    'stock': [50, 150, 200]\n",
    "# }\n",
    "\n",
    "# df = pd.DataFrame(data)\n",
    "# print(df)\n",
    "\n",
    "# _________________________________________________________________\n",
    "\n"
   ]
  },
  {
   "cell_type": "code",
   "execution_count": null,
   "id": "6df44d82-3cb4-4245-847b-c8c1af41241c",
   "metadata": {},
   "outputs": [],
   "source": []
  }
 ],
 "metadata": {
  "kernelspec": {
   "display_name": "Python 3 (ipykernel)",
   "language": "python",
   "name": "python3"
  },
  "language_info": {
   "codemirror_mode": {
    "name": "ipython",
    "version": 3
   },
   "file_extension": ".py",
   "mimetype": "text/x-python",
   "name": "python",
   "nbconvert_exporter": "python",
   "pygments_lexer": "ipython3",
   "version": "3.12.3"
  }
 },
 "nbformat": 4,
 "nbformat_minor": 5
}
